{
 "cells": [
  {
   "cell_type": "markdown",
   "metadata": {},
   "source": [
    "# <font color='blue'>Data Science Academy</font>\n",
    "# <font color='blue'>Big Data Real-Time Analytics com Python e Spark</font>\n",
    "\n",
    "# <font color='blue'>Capítulo 3</font>"
   ]
  },
  {
   "cell_type": "markdown",
   "metadata": {},
   "source": [
    "## Estudo de Caso - Análise Exploratória de Dados - Parte 2"
   ]
  },
  {
   "cell_type": "code",
   "execution_count": 1,
   "metadata": {},
   "outputs": [],
   "source": [
    "import pandas as pd\n",
    "import numpy as np\n",
    "import matplotlib.pyplot as plt\n",
    "%matplotlib inline"
   ]
  },
  {
   "cell_type": "code",
   "execution_count": 2,
   "metadata": {},
   "outputs": [
    {
     "data": {
      "text/plain": [
       "'1.2.0'"
      ]
     },
     "execution_count": 2,
     "metadata": {},
     "output_type": "execute_result"
    }
   ],
   "source": [
    "pd.__version__"
   ]
  },
  {
   "cell_type": "code",
   "execution_count": 3,
   "metadata": {},
   "outputs": [],
   "source": [
    "# Carregando os dados salvos em disco\n",
    "df = pd.read_csv('data/dataframe_saved_v1.csv')"
   ]
  },
  {
   "cell_type": "code",
   "execution_count": 4,
   "metadata": {},
   "outputs": [
    {
     "data": {
      "text/html": [
       "<div>\n",
       "<style scoped>\n",
       "    .dataframe tbody tr th:only-of-type {\n",
       "        vertical-align: middle;\n",
       "    }\n",
       "\n",
       "    .dataframe tbody tr th {\n",
       "        vertical-align: top;\n",
       "    }\n",
       "\n",
       "    .dataframe thead th {\n",
       "        text-align: right;\n",
       "    }\n",
       "</style>\n",
       "<table border=\"1\" class=\"dataframe\">\n",
       "  <thead>\n",
       "    <tr style=\"text-align: right;\">\n",
       "      <th></th>\n",
       "      <th>Data</th>\n",
       "      <th>Distancia</th>\n",
       "      <th>Tempo</th>\n",
       "    </tr>\n",
       "  </thead>\n",
       "  <tbody>\n",
       "    <tr>\n",
       "      <th>0</th>\n",
       "      <td>2015-08-02</td>\n",
       "      <td>1.70</td>\n",
       "      <td>NaN</td>\n",
       "    </tr>\n",
       "    <tr>\n",
       "      <th>1</th>\n",
       "      <td>2015-08-03</td>\n",
       "      <td>1.40</td>\n",
       "      <td>NaN</td>\n",
       "    </tr>\n",
       "    <tr>\n",
       "      <th>2</th>\n",
       "      <td>2015-08-04</td>\n",
       "      <td>2.10</td>\n",
       "      <td>NaN</td>\n",
       "    </tr>\n",
       "    <tr>\n",
       "      <th>3</th>\n",
       "      <td>2015-08-06</td>\n",
       "      <td>2.38</td>\n",
       "      <td>NaN</td>\n",
       "    </tr>\n",
       "    <tr>\n",
       "      <th>4</th>\n",
       "      <td>2015-08-07</td>\n",
       "      <td>2.30</td>\n",
       "      <td>NaN</td>\n",
       "    </tr>\n",
       "  </tbody>\n",
       "</table>\n",
       "</div>"
      ],
      "text/plain": [
       "         Data  Distancia Tempo\n",
       "0  2015-08-02       1.70   NaN\n",
       "1  2015-08-03       1.40   NaN\n",
       "2  2015-08-04       2.10   NaN\n",
       "3  2015-08-06       2.38   NaN\n",
       "4  2015-08-07       2.30   NaN"
      ]
     },
     "execution_count": 4,
     "metadata": {},
     "output_type": "execute_result"
    }
   ],
   "source": [
    "df.head()"
   ]
  },
  {
   "cell_type": "code",
   "execution_count": 5,
   "metadata": {},
   "outputs": [
    {
     "data": {
      "text/plain": [
       "Data          object\n",
       "Distancia    float64\n",
       "Tempo         object\n",
       "dtype: object"
      ]
     },
     "execution_count": 5,
     "metadata": {},
     "output_type": "execute_result"
    }
   ],
   "source": [
    "df.dtypes"
   ]
  },
  {
   "cell_type": "code",
   "execution_count": 6,
   "metadata": {},
   "outputs": [],
   "source": [
    "df = pd.read_csv('data/dataframe_saved_v1.csv', parse_dates = ['Data'])"
   ]
  },
  {
   "cell_type": "code",
   "execution_count": 7,
   "metadata": {},
   "outputs": [
    {
     "data": {
      "text/html": [
       "<div>\n",
       "<style scoped>\n",
       "    .dataframe tbody tr th:only-of-type {\n",
       "        vertical-align: middle;\n",
       "    }\n",
       "\n",
       "    .dataframe tbody tr th {\n",
       "        vertical-align: top;\n",
       "    }\n",
       "\n",
       "    .dataframe thead th {\n",
       "        text-align: right;\n",
       "    }\n",
       "</style>\n",
       "<table border=\"1\" class=\"dataframe\">\n",
       "  <thead>\n",
       "    <tr style=\"text-align: right;\">\n",
       "      <th></th>\n",
       "      <th>Data</th>\n",
       "      <th>Distancia</th>\n",
       "      <th>Tempo</th>\n",
       "    </tr>\n",
       "  </thead>\n",
       "  <tbody>\n",
       "    <tr>\n",
       "      <th>0</th>\n",
       "      <td>2015-08-02</td>\n",
       "      <td>1.70</td>\n",
       "      <td>NaN</td>\n",
       "    </tr>\n",
       "    <tr>\n",
       "      <th>1</th>\n",
       "      <td>2015-08-03</td>\n",
       "      <td>1.40</td>\n",
       "      <td>NaN</td>\n",
       "    </tr>\n",
       "    <tr>\n",
       "      <th>2</th>\n",
       "      <td>2015-08-04</td>\n",
       "      <td>2.10</td>\n",
       "      <td>NaN</td>\n",
       "    </tr>\n",
       "    <tr>\n",
       "      <th>3</th>\n",
       "      <td>2015-08-06</td>\n",
       "      <td>2.38</td>\n",
       "      <td>NaN</td>\n",
       "    </tr>\n",
       "    <tr>\n",
       "      <th>4</th>\n",
       "      <td>2015-08-07</td>\n",
       "      <td>2.30</td>\n",
       "      <td>NaN</td>\n",
       "    </tr>\n",
       "  </tbody>\n",
       "</table>\n",
       "</div>"
      ],
      "text/plain": [
       "        Data  Distancia Tempo\n",
       "0 2015-08-02       1.70   NaN\n",
       "1 2015-08-03       1.40   NaN\n",
       "2 2015-08-04       2.10   NaN\n",
       "3 2015-08-06       2.38   NaN\n",
       "4 2015-08-07       2.30   NaN"
      ]
     },
     "execution_count": 7,
     "metadata": {},
     "output_type": "execute_result"
    }
   ],
   "source": [
    "df.head()"
   ]
  },
  {
   "cell_type": "code",
   "execution_count": 8,
   "metadata": {},
   "outputs": [
    {
     "data": {
      "text/plain": [
       "Data         datetime64[ns]\n",
       "Distancia           float64\n",
       "Tempo                object\n",
       "dtype: object"
      ]
     },
     "execution_count": 8,
     "metadata": {},
     "output_type": "execute_result"
    }
   ],
   "source": [
    "df.dtypes"
   ]
  },
  {
   "cell_type": "code",
   "execution_count": 9,
   "metadata": {},
   "outputs": [
    {
     "data": {
      "text/html": [
       "<div>\n",
       "<style scoped>\n",
       "    .dataframe tbody tr th:only-of-type {\n",
       "        vertical-align: middle;\n",
       "    }\n",
       "\n",
       "    .dataframe tbody tr th {\n",
       "        vertical-align: top;\n",
       "    }\n",
       "\n",
       "    .dataframe thead th {\n",
       "        text-align: right;\n",
       "    }\n",
       "</style>\n",
       "<table border=\"1\" class=\"dataframe\">\n",
       "  <thead>\n",
       "    <tr style=\"text-align: right;\">\n",
       "      <th></th>\n",
       "      <th>Data</th>\n",
       "      <th>Distancia</th>\n",
       "      <th>Tempo</th>\n",
       "    </tr>\n",
       "  </thead>\n",
       "  <tbody>\n",
       "    <tr>\n",
       "      <th>0</th>\n",
       "      <td>2015-08-02</td>\n",
       "      <td>1.70</td>\n",
       "      <td>NaN</td>\n",
       "    </tr>\n",
       "    <tr>\n",
       "      <th>1</th>\n",
       "      <td>2015-08-03</td>\n",
       "      <td>1.40</td>\n",
       "      <td>NaN</td>\n",
       "    </tr>\n",
       "    <tr>\n",
       "      <th>2</th>\n",
       "      <td>2015-08-04</td>\n",
       "      <td>2.10</td>\n",
       "      <td>NaN</td>\n",
       "    </tr>\n",
       "    <tr>\n",
       "      <th>3</th>\n",
       "      <td>2015-08-06</td>\n",
       "      <td>2.38</td>\n",
       "      <td>NaN</td>\n",
       "    </tr>\n",
       "    <tr>\n",
       "      <th>4</th>\n",
       "      <td>2015-08-07</td>\n",
       "      <td>2.30</td>\n",
       "      <td>NaN</td>\n",
       "    </tr>\n",
       "  </tbody>\n",
       "</table>\n",
       "</div>"
      ],
      "text/plain": [
       "        Data  Distancia Tempo\n",
       "0 2015-08-02       1.70   NaN\n",
       "1 2015-08-03       1.40   NaN\n",
       "2 2015-08-04       2.10   NaN\n",
       "3 2015-08-06       2.38   NaN\n",
       "4 2015-08-07       2.30   NaN"
      ]
     },
     "execution_count": 9,
     "metadata": {},
     "output_type": "execute_result"
    }
   ],
   "source": [
    "cols = ['Data', 'Distancia', 'Tempo']\n",
    "df.columns = cols\n",
    "df.head()"
   ]
  },
  {
   "cell_type": "code",
   "execution_count": 10,
   "metadata": {},
   "outputs": [],
   "source": [
    "# Transformando a coluna Data em índice\n",
    "df.set_index('Data', inplace = True)"
   ]
  },
  {
   "cell_type": "code",
   "execution_count": 11,
   "metadata": {},
   "outputs": [
    {
     "data": {
      "text/html": [
       "<div>\n",
       "<style scoped>\n",
       "    .dataframe tbody tr th:only-of-type {\n",
       "        vertical-align: middle;\n",
       "    }\n",
       "\n",
       "    .dataframe tbody tr th {\n",
       "        vertical-align: top;\n",
       "    }\n",
       "\n",
       "    .dataframe thead th {\n",
       "        text-align: right;\n",
       "    }\n",
       "</style>\n",
       "<table border=\"1\" class=\"dataframe\">\n",
       "  <thead>\n",
       "    <tr style=\"text-align: right;\">\n",
       "      <th></th>\n",
       "      <th>Distancia</th>\n",
       "      <th>Tempo</th>\n",
       "    </tr>\n",
       "    <tr>\n",
       "      <th>Data</th>\n",
       "      <th></th>\n",
       "      <th></th>\n",
       "    </tr>\n",
       "  </thead>\n",
       "  <tbody>\n",
       "    <tr>\n",
       "      <th>2015-08-02</th>\n",
       "      <td>1.70</td>\n",
       "      <td>NaN</td>\n",
       "    </tr>\n",
       "    <tr>\n",
       "      <th>2015-08-03</th>\n",
       "      <td>1.40</td>\n",
       "      <td>NaN</td>\n",
       "    </tr>\n",
       "    <tr>\n",
       "      <th>2015-08-04</th>\n",
       "      <td>2.10</td>\n",
       "      <td>NaN</td>\n",
       "    </tr>\n",
       "    <tr>\n",
       "      <th>2015-08-06</th>\n",
       "      <td>2.38</td>\n",
       "      <td>NaN</td>\n",
       "    </tr>\n",
       "    <tr>\n",
       "      <th>2015-08-07</th>\n",
       "      <td>2.30</td>\n",
       "      <td>NaN</td>\n",
       "    </tr>\n",
       "  </tbody>\n",
       "</table>\n",
       "</div>"
      ],
      "text/plain": [
       "            Distancia Tempo\n",
       "Data                       \n",
       "2015-08-02       1.70   NaN\n",
       "2015-08-03       1.40   NaN\n",
       "2015-08-04       2.10   NaN\n",
       "2015-08-06       2.38   NaN\n",
       "2015-08-07       2.30   NaN"
      ]
     },
     "execution_count": 11,
     "metadata": {},
     "output_type": "execute_result"
    }
   ],
   "source": [
    "df.head()"
   ]
  },
  {
   "cell_type": "code",
   "execution_count": 12,
   "metadata": {},
   "outputs": [
    {
     "data": {
      "text/plain": [
       "<matplotlib.axes._subplots.AxesSubplot at 0x65674e0>"
      ]
     },
     "execution_count": 12,
     "metadata": {},
     "output_type": "execute_result"
    },
    {
     "data": {
      "image/png": "[encoded data removed]",
      "text/plain": [
       "<Figure size 432x288 with 1 Axes>"
      ]
     },
     "metadata": {
      "needs_background": "light"
     },
     "output_type": "display_data"
    }
   ],
   "source": [
    "df.plot()"
   ]
  },
  {
   "cell_type": "code",
   "execution_count": 13,
   "metadata": {},
   "outputs": [],
   "source": [
    "# Função para converter a coluna de duração no tempo em segundos\n",
    "def calcula_total_segundos(time):\n",
    "    if time is np.nan:\n",
    "        return np.nan \n",
    "    hrs, mins, seconds = str(time).split(':')\n",
    "    seconds = int(seconds) + 60 * int(mins) + 60 * 60 * int(hrs)\n",
    "    return seconds    "
   ]
  },
  {
   "cell_type": "code",
   "execution_count": 14,
   "metadata": {},
   "outputs": [],
   "source": [
    "df['Segundos'] = df.Tempo.map(calcula_total_segundos)"
   ]
  },
  {
   "cell_type": "code",
   "execution_count": 15,
   "metadata": {},
   "outputs": [
    {
     "data": {
      "text/html": [
       "<div>\n",
       "<style scoped>\n",
       "    .dataframe tbody tr th:only-of-type {\n",
       "        vertical-align: middle;\n",
       "    }\n",
       "\n",
       "    .dataframe tbody tr th {\n",
       "        vertical-align: top;\n",
       "    }\n",
       "\n",
       "    .dataframe thead th {\n",
       "        text-align: right;\n",
       "    }\n",
       "</style>\n",
       "<table border=\"1\" class=\"dataframe\">\n",
       "  <thead>\n",
       "    <tr style=\"text-align: right;\">\n",
       "      <th></th>\n",
       "      <th>Distancia</th>\n",
       "      <th>Tempo</th>\n",
       "      <th>Segundos</th>\n",
       "    </tr>\n",
       "    <tr>\n",
       "      <th>Data</th>\n",
       "      <th></th>\n",
       "      <th></th>\n",
       "      <th></th>\n",
       "    </tr>\n",
       "  </thead>\n",
       "  <tbody>\n",
       "    <tr>\n",
       "      <th>2015-08-02</th>\n",
       "      <td>1.70</td>\n",
       "      <td>NaN</td>\n",
       "      <td>NaN</td>\n",
       "    </tr>\n",
       "    <tr>\n",
       "      <th>2015-08-03</th>\n",
       "      <td>1.40</td>\n",
       "      <td>NaN</td>\n",
       "      <td>NaN</td>\n",
       "    </tr>\n",
       "    <tr>\n",
       "      <th>2015-08-04</th>\n",
       "      <td>2.10</td>\n",
       "      <td>NaN</td>\n",
       "      <td>NaN</td>\n",
       "    </tr>\n",
       "    <tr>\n",
       "      <th>2015-08-06</th>\n",
       "      <td>2.38</td>\n",
       "      <td>NaN</td>\n",
       "      <td>NaN</td>\n",
       "    </tr>\n",
       "    <tr>\n",
       "      <th>2015-08-07</th>\n",
       "      <td>2.30</td>\n",
       "      <td>NaN</td>\n",
       "      <td>NaN</td>\n",
       "    </tr>\n",
       "    <tr>\n",
       "      <th>2015-08-08</th>\n",
       "      <td>3.40</td>\n",
       "      <td>NaN</td>\n",
       "      <td>NaN</td>\n",
       "    </tr>\n",
       "    <tr>\n",
       "      <th>2015-08-09</th>\n",
       "      <td>2.50</td>\n",
       "      <td>NaN</td>\n",
       "      <td>NaN</td>\n",
       "    </tr>\n",
       "    <tr>\n",
       "      <th>2015-08-10</th>\n",
       "      <td>3.36</td>\n",
       "      <td>0:28:37</td>\n",
       "      <td>1717.0</td>\n",
       "    </tr>\n",
       "    <tr>\n",
       "      <th>2015-08-11</th>\n",
       "      <td>1.67</td>\n",
       "      <td>0:13:07</td>\n",
       "      <td>787.0</td>\n",
       "    </tr>\n",
       "    <tr>\n",
       "      <th>2015-08-12</th>\n",
       "      <td>1.42</td>\n",
       "      <td>0:10:35</td>\n",
       "      <td>635.0</td>\n",
       "    </tr>\n",
       "  </tbody>\n",
       "</table>\n",
       "</div>"
      ],
      "text/plain": [
       "            Distancia    Tempo  Segundos\n",
       "Data                                    \n",
       "2015-08-02       1.70      NaN       NaN\n",
       "2015-08-03       1.40      NaN       NaN\n",
       "2015-08-04       2.10      NaN       NaN\n",
       "2015-08-06       2.38      NaN       NaN\n",
       "2015-08-07       2.30      NaN       NaN\n",
       "2015-08-08       3.40      NaN       NaN\n",
       "2015-08-09       2.50      NaN       NaN\n",
       "2015-08-10       3.36  0:28:37    1717.0\n",
       "2015-08-11       1.67  0:13:07     787.0\n",
       "2015-08-12       1.42  0:10:35     635.0"
      ]
     },
     "execution_count": 15,
     "metadata": {},
     "output_type": "execute_result"
    }
   ],
   "source": [
    "df.head(10)"
   ]
  },
  {
   "cell_type": "code",
   "execution_count": 16,
   "metadata": {},
   "outputs": [
    {
     "data": {
      "text/html": [
       "<div>\n",
       "<style scoped>\n",
       "    .dataframe tbody tr th:only-of-type {\n",
       "        vertical-align: middle;\n",
       "    }\n",
       "\n",
       "    .dataframe tbody tr th {\n",
       "        vertical-align: top;\n",
       "    }\n",
       "\n",
       "    .dataframe thead th {\n",
       "        text-align: right;\n",
       "    }\n",
       "</style>\n",
       "<table border=\"1\" class=\"dataframe\">\n",
       "  <thead>\n",
       "    <tr style=\"text-align: right;\">\n",
       "      <th></th>\n",
       "      <th>Distancia</th>\n",
       "      <th>Segundos</th>\n",
       "    </tr>\n",
       "  </thead>\n",
       "  <tbody>\n",
       "    <tr>\n",
       "      <th>count</th>\n",
       "      <td>81.000000</td>\n",
       "      <td>52.000000</td>\n",
       "    </tr>\n",
       "    <tr>\n",
       "      <th>mean</th>\n",
       "      <td>3.137531</td>\n",
       "      <td>1901.788462</td>\n",
       "    </tr>\n",
       "    <tr>\n",
       "      <th>std</th>\n",
       "      <td>3.634519</td>\n",
       "      <td>2560.424171</td>\n",
       "    </tr>\n",
       "    <tr>\n",
       "      <th>min</th>\n",
       "      <td>0.650000</td>\n",
       "      <td>376.000000</td>\n",
       "    </tr>\n",
       "    <tr>\n",
       "      <th>25%</th>\n",
       "      <td>1.370000</td>\n",
       "      <td>583.750000</td>\n",
       "    </tr>\n",
       "    <tr>\n",
       "      <th>50%</th>\n",
       "      <td>2.100000</td>\n",
       "      <td>1343.500000</td>\n",
       "    </tr>\n",
       "    <tr>\n",
       "      <th>75%</th>\n",
       "      <td>3.050000</td>\n",
       "      <td>1743.250000</td>\n",
       "    </tr>\n",
       "    <tr>\n",
       "      <th>max</th>\n",
       "      <td>26.200000</td>\n",
       "      <td>15643.000000</td>\n",
       "    </tr>\n",
       "  </tbody>\n",
       "</table>\n",
       "</div>"
      ],
      "text/plain": [
       "       Distancia      Segundos\n",
       "count  81.000000     52.000000\n",
       "mean    3.137531   1901.788462\n",
       "std     3.634519   2560.424171\n",
       "min     0.650000    376.000000\n",
       "25%     1.370000    583.750000\n",
       "50%     2.100000   1343.500000\n",
       "75%     3.050000   1743.250000\n",
       "max    26.200000  15643.000000"
      ]
     },
     "execution_count": 16,
     "metadata": {},
     "output_type": "execute_result"
    }
   ],
   "source": [
    "df.describe()"
   ]
  },
  {
   "cell_type": "code",
   "execution_count": 17,
   "metadata": {},
   "outputs": [
    {
     "data": {
      "text/html": [
       "<div>\n",
       "<style scoped>\n",
       "    .dataframe tbody tr th:only-of-type {\n",
       "        vertical-align: middle;\n",
       "    }\n",
       "\n",
       "    .dataframe tbody tr th {\n",
       "        vertical-align: top;\n",
       "    }\n",
       "\n",
       "    .dataframe thead th {\n",
       "        text-align: right;\n",
       "    }\n",
       "</style>\n",
       "<table border=\"1\" class=\"dataframe\">\n",
       "  <thead>\n",
       "    <tr style=\"text-align: right;\">\n",
       "      <th></th>\n",
       "      <th>Distancia</th>\n",
       "      <th>Segundos</th>\n",
       "    </tr>\n",
       "  </thead>\n",
       "  <tbody>\n",
       "    <tr>\n",
       "      <th>count</th>\n",
       "      <td>81.000000</td>\n",
       "      <td>81.000000</td>\n",
       "    </tr>\n",
       "    <tr>\n",
       "      <th>mean</th>\n",
       "      <td>3.137531</td>\n",
       "      <td>1220.901235</td>\n",
       "    </tr>\n",
       "    <tr>\n",
       "      <th>std</th>\n",
       "      <td>3.634519</td>\n",
       "      <td>2240.756985</td>\n",
       "    </tr>\n",
       "    <tr>\n",
       "      <th>min</th>\n",
       "      <td>0.650000</td>\n",
       "      <td>0.000000</td>\n",
       "    </tr>\n",
       "    <tr>\n",
       "      <th>25%</th>\n",
       "      <td>1.370000</td>\n",
       "      <td>0.000000</td>\n",
       "    </tr>\n",
       "    <tr>\n",
       "      <th>50%</th>\n",
       "      <td>2.100000</td>\n",
       "      <td>573.000000</td>\n",
       "    </tr>\n",
       "    <tr>\n",
       "      <th>75%</th>\n",
       "      <td>3.050000</td>\n",
       "      <td>1426.000000</td>\n",
       "    </tr>\n",
       "    <tr>\n",
       "      <th>max</th>\n",
       "      <td>26.200000</td>\n",
       "      <td>15643.000000</td>\n",
       "    </tr>\n",
       "  </tbody>\n",
       "</table>\n",
       "</div>"
      ],
      "text/plain": [
       "       Distancia      Segundos\n",
       "count  81.000000     81.000000\n",
       "mean    3.137531   1220.901235\n",
       "std     3.634519   2240.756985\n",
       "min     0.650000      0.000000\n",
       "25%     1.370000      0.000000\n",
       "50%     2.100000    573.000000\n",
       "75%     3.050000   1426.000000\n",
       "max    26.200000  15643.000000"
      ]
     },
     "execution_count": 17,
     "metadata": {},
     "output_type": "execute_result"
    }
   ],
   "source": [
    "df.fillna(0).describe()"
   ]
  },
  {
   "cell_type": "code",
   "execution_count": 18,
   "metadata": {},
   "outputs": [],
   "source": [
    "df['Minutos'] = df['Segundos'].map(lambda x: x / 60)"
   ]
  },
  {
   "cell_type": "code",
   "execution_count": 19,
   "metadata": {},
   "outputs": [
    {
     "data": {
      "text/html": [
       "<div>\n",
       "<style scoped>\n",
       "    .dataframe tbody tr th:only-of-type {\n",
       "        vertical-align: middle;\n",
       "    }\n",
       "\n",
       "    .dataframe tbody tr th {\n",
       "        vertical-align: top;\n",
       "    }\n",
       "\n",
       "    .dataframe thead th {\n",
       "        text-align: right;\n",
       "    }\n",
       "</style>\n",
       "<table border=\"1\" class=\"dataframe\">\n",
       "  <thead>\n",
       "    <tr style=\"text-align: right;\">\n",
       "      <th></th>\n",
       "      <th>Distancia</th>\n",
       "      <th>Segundos</th>\n",
       "      <th>Minutos</th>\n",
       "    </tr>\n",
       "  </thead>\n",
       "  <tbody>\n",
       "    <tr>\n",
       "      <th>count</th>\n",
       "      <td>81.000000</td>\n",
       "      <td>81.000000</td>\n",
       "      <td>81.000000</td>\n",
       "    </tr>\n",
       "    <tr>\n",
       "      <th>mean</th>\n",
       "      <td>3.137531</td>\n",
       "      <td>1220.901235</td>\n",
       "      <td>20.348354</td>\n",
       "    </tr>\n",
       "    <tr>\n",
       "      <th>std</th>\n",
       "      <td>3.634519</td>\n",
       "      <td>2240.756985</td>\n",
       "      <td>37.345950</td>\n",
       "    </tr>\n",
       "    <tr>\n",
       "      <th>min</th>\n",
       "      <td>0.650000</td>\n",
       "      <td>0.000000</td>\n",
       "      <td>0.000000</td>\n",
       "    </tr>\n",
       "    <tr>\n",
       "      <th>25%</th>\n",
       "      <td>1.370000</td>\n",
       "      <td>0.000000</td>\n",
       "      <td>0.000000</td>\n",
       "    </tr>\n",
       "    <tr>\n",
       "      <th>50%</th>\n",
       "      <td>2.100000</td>\n",
       "      <td>573.000000</td>\n",
       "      <td>9.550000</td>\n",
       "    </tr>\n",
       "    <tr>\n",
       "      <th>75%</th>\n",
       "      <td>3.050000</td>\n",
       "      <td>1426.000000</td>\n",
       "      <td>23.766667</td>\n",
       "    </tr>\n",
       "    <tr>\n",
       "      <th>max</th>\n",
       "      <td>26.200000</td>\n",
       "      <td>15643.000000</td>\n",
       "      <td>260.716667</td>\n",
       "    </tr>\n",
       "  </tbody>\n",
       "</table>\n",
       "</div>"
      ],
      "text/plain": [
       "       Distancia      Segundos     Minutos\n",
       "count  81.000000     81.000000   81.000000\n",
       "mean    3.137531   1220.901235   20.348354\n",
       "std     3.634519   2240.756985   37.345950\n",
       "min     0.650000      0.000000    0.000000\n",
       "25%     1.370000      0.000000    0.000000\n",
       "50%     2.100000    573.000000    9.550000\n",
       "75%     3.050000   1426.000000   23.766667\n",
       "max    26.200000  15643.000000  260.716667"
      ]
     },
     "execution_count": 19,
     "metadata": {},
     "output_type": "execute_result"
    }
   ],
   "source": [
    "df.fillna(0).describe()"
   ]
  },
  {
   "cell_type": "code",
   "execution_count": 20,
   "metadata": {},
   "outputs": [
    {
     "data": {
      "text/plain": [
       "<matplotlib.axes._subplots.AxesSubplot at 0xff94860>"
      ]
     },
     "execution_count": 20,
     "metadata": {},
     "output_type": "execute_result"
    },
    {
     "data": {
      "image/png": "[encoded data removed]",
      "text/plain": [
       "<Figure size 432x288 with 1 Axes>"
      ]
     },
     "metadata": {
      "needs_background": "light"
     },
     "output_type": "display_data"
    }
   ],
   "source": [
    "df.plot(x = 'Distancia', y = 'Minutos', kind = 'scatter')"
   ]
  },
  {
   "cell_type": "code",
   "execution_count": 21,
   "metadata": {},
   "outputs": [
    {
     "data": {
      "text/html": [
       "<div>\n",
       "<style scoped>\n",
       "    .dataframe tbody tr th:only-of-type {\n",
       "        vertical-align: middle;\n",
       "    }\n",
       "\n",
       "    .dataframe tbody tr th {\n",
       "        vertical-align: top;\n",
       "    }\n",
       "\n",
       "    .dataframe thead th {\n",
       "        text-align: right;\n",
       "    }\n",
       "</style>\n",
       "<table border=\"1\" class=\"dataframe\">\n",
       "  <thead>\n",
       "    <tr style=\"text-align: right;\">\n",
       "      <th></th>\n",
       "      <th>Distancia</th>\n",
       "      <th>Segundos</th>\n",
       "      <th>Minutos</th>\n",
       "    </tr>\n",
       "  </thead>\n",
       "  <tbody>\n",
       "    <tr>\n",
       "      <th>Distancia</th>\n",
       "      <td>1.000000</td>\n",
       "      <td>0.997203</td>\n",
       "      <td>0.997203</td>\n",
       "    </tr>\n",
       "    <tr>\n",
       "      <th>Segundos</th>\n",
       "      <td>0.997203</td>\n",
       "      <td>1.000000</td>\n",
       "      <td>1.000000</td>\n",
       "    </tr>\n",
       "    <tr>\n",
       "      <th>Minutos</th>\n",
       "      <td>0.997203</td>\n",
       "      <td>1.000000</td>\n",
       "      <td>1.000000</td>\n",
       "    </tr>\n",
       "  </tbody>\n",
       "</table>\n",
       "</div>"
      ],
      "text/plain": [
       "           Distancia  Segundos   Minutos\n",
       "Distancia   1.000000  0.997203  0.997203\n",
       "Segundos    0.997203  1.000000  1.000000\n",
       "Minutos     0.997203  1.000000  1.000000"
      ]
     },
     "execution_count": 21,
     "metadata": {},
     "output_type": "execute_result"
    }
   ],
   "source": [
    "df.corr()"
   ]
  },
  {
   "cell_type": "code",
   "execution_count": 22,
   "metadata": {},
   "outputs": [
    {
     "data": {
      "text/html": [
       "<div>\n",
       "<style scoped>\n",
       "    .dataframe tbody tr th:only-of-type {\n",
       "        vertical-align: middle;\n",
       "    }\n",
       "\n",
       "    .dataframe tbody tr th {\n",
       "        vertical-align: top;\n",
       "    }\n",
       "\n",
       "    .dataframe thead th {\n",
       "        text-align: right;\n",
       "    }\n",
       "</style>\n",
       "<table border=\"1\" class=\"dataframe\">\n",
       "  <thead>\n",
       "    <tr style=\"text-align: right;\">\n",
       "      <th></th>\n",
       "      <th>Distancia</th>\n",
       "      <th>Segundos</th>\n",
       "      <th>Minutos</th>\n",
       "    </tr>\n",
       "  </thead>\n",
       "  <tbody>\n",
       "    <tr>\n",
       "      <th>Distancia</th>\n",
       "      <td>1.00000</td>\n",
       "      <td>0.96482</td>\n",
       "      <td>0.96482</td>\n",
       "    </tr>\n",
       "    <tr>\n",
       "      <th>Segundos</th>\n",
       "      <td>0.96482</td>\n",
       "      <td>1.00000</td>\n",
       "      <td>1.00000</td>\n",
       "    </tr>\n",
       "    <tr>\n",
       "      <th>Minutos</th>\n",
       "      <td>0.96482</td>\n",
       "      <td>1.00000</td>\n",
       "      <td>1.00000</td>\n",
       "    </tr>\n",
       "  </tbody>\n",
       "</table>\n",
       "</div>"
      ],
      "text/plain": [
       "           Distancia  Segundos  Minutos\n",
       "Distancia    1.00000   0.96482  0.96482\n",
       "Segundos     0.96482   1.00000  1.00000\n",
       "Minutos      0.96482   1.00000  1.00000"
      ]
     },
     "execution_count": 22,
     "metadata": {},
     "output_type": "execute_result"
    }
   ],
   "source": [
    "df.corr(method = 'spearman')"
   ]
  },
  {
   "cell_type": "code",
   "execution_count": 23,
   "metadata": {},
   "outputs": [
    {
     "data": {
      "text/html": [
       "<div>\n",
       "<style scoped>\n",
       "    .dataframe tbody tr th:only-of-type {\n",
       "        vertical-align: middle;\n",
       "    }\n",
       "\n",
       "    .dataframe tbody tr th {\n",
       "        vertical-align: top;\n",
       "    }\n",
       "\n",
       "    .dataframe thead th {\n",
       "        text-align: right;\n",
       "    }\n",
       "</style>\n",
       "<table border=\"1\" class=\"dataframe\">\n",
       "  <thead>\n",
       "    <tr style=\"text-align: right;\">\n",
       "      <th></th>\n",
       "      <th>Distancia</th>\n",
       "      <th>Segundos</th>\n",
       "      <th>Minutos</th>\n",
       "    </tr>\n",
       "  </thead>\n",
       "  <tbody>\n",
       "    <tr>\n",
       "      <th>Distancia</th>\n",
       "      <td>1.00000</td>\n",
       "      <td>0.88305</td>\n",
       "      <td>0.88305</td>\n",
       "    </tr>\n",
       "    <tr>\n",
       "      <th>Segundos</th>\n",
       "      <td>0.88305</td>\n",
       "      <td>1.00000</td>\n",
       "      <td>1.00000</td>\n",
       "    </tr>\n",
       "    <tr>\n",
       "      <th>Minutos</th>\n",
       "      <td>0.88305</td>\n",
       "      <td>1.00000</td>\n",
       "      <td>1.00000</td>\n",
       "    </tr>\n",
       "  </tbody>\n",
       "</table>\n",
       "</div>"
      ],
      "text/plain": [
       "           Distancia  Segundos  Minutos\n",
       "Distancia    1.00000   0.88305  0.88305\n",
       "Segundos     0.88305   1.00000  1.00000\n",
       "Minutos      0.88305   1.00000  1.00000"
      ]
     },
     "execution_count": 23,
     "metadata": {},
     "output_type": "execute_result"
    }
   ],
   "source": [
    "df.corr(method = 'kendall')"
   ]
  },
  {
   "cell_type": "code",
   "execution_count": 24,
   "metadata": {},
   "outputs": [
    {
     "data": {
      "text/plain": [
       "<matplotlib.axes._subplots.AxesSubplot at 0x13e8db00>"
      ]
     },
     "execution_count": 24,
     "metadata": {},
     "output_type": "execute_result"
    },
    {
     "data": {
      "image/png": "[encoded data removed]",
      "text/plain": [
       "<Figure size 432x288 with 1 Axes>"
      ]
     },
     "metadata": {
      "needs_background": "light"
     },
     "output_type": "display_data"
    }
   ],
   "source": [
    "df.boxplot('Minutos', return_type = 'axes')"
   ]
  },
  {
   "cell_type": "code",
   "execution_count": 25,
   "metadata": {},
   "outputs": [],
   "source": [
    "df['Min_Por_Km'] = df['Minutos'] / df['Distancia']"
   ]
  },
  {
   "cell_type": "code",
   "execution_count": 26,
   "metadata": {},
   "outputs": [
    {
     "data": {
      "text/html": [
       "<div>\n",
       "<style scoped>\n",
       "    .dataframe tbody tr th:only-of-type {\n",
       "        vertical-align: middle;\n",
       "    }\n",
       "\n",
       "    .dataframe tbody tr th {\n",
       "        vertical-align: top;\n",
       "    }\n",
       "\n",
       "    .dataframe thead th {\n",
       "        text-align: right;\n",
       "    }\n",
       "</style>\n",
       "<table border=\"1\" class=\"dataframe\">\n",
       "  <thead>\n",
       "    <tr style=\"text-align: right;\">\n",
       "      <th></th>\n",
       "      <th>Distancia</th>\n",
       "      <th>Segundos</th>\n",
       "      <th>Minutos</th>\n",
       "      <th>Min_Por_Km</th>\n",
       "    </tr>\n",
       "  </thead>\n",
       "  <tbody>\n",
       "    <tr>\n",
       "      <th>count</th>\n",
       "      <td>81.000000</td>\n",
       "      <td>81.000000</td>\n",
       "      <td>81.000000</td>\n",
       "      <td>81.000000</td>\n",
       "    </tr>\n",
       "    <tr>\n",
       "      <th>mean</th>\n",
       "      <td>3.137531</td>\n",
       "      <td>1220.901235</td>\n",
       "      <td>20.348354</td>\n",
       "      <td>4.959450</td>\n",
       "    </tr>\n",
       "    <tr>\n",
       "      <th>std</th>\n",
       "      <td>3.634519</td>\n",
       "      <td>2240.756985</td>\n",
       "      <td>37.345950</td>\n",
       "      <td>3.803856</td>\n",
       "    </tr>\n",
       "    <tr>\n",
       "      <th>min</th>\n",
       "      <td>0.650000</td>\n",
       "      <td>0.000000</td>\n",
       "      <td>0.000000</td>\n",
       "      <td>0.000000</td>\n",
       "    </tr>\n",
       "    <tr>\n",
       "      <th>25%</th>\n",
       "      <td>1.370000</td>\n",
       "      <td>0.000000</td>\n",
       "      <td>0.000000</td>\n",
       "      <td>0.000000</td>\n",
       "    </tr>\n",
       "    <tr>\n",
       "      <th>50%</th>\n",
       "      <td>2.100000</td>\n",
       "      <td>573.000000</td>\n",
       "      <td>9.550000</td>\n",
       "      <td>6.962963</td>\n",
       "    </tr>\n",
       "    <tr>\n",
       "      <th>75%</th>\n",
       "      <td>3.050000</td>\n",
       "      <td>1426.000000</td>\n",
       "      <td>23.766667</td>\n",
       "      <td>7.792350</td>\n",
       "    </tr>\n",
       "    <tr>\n",
       "      <th>max</th>\n",
       "      <td>26.200000</td>\n",
       "      <td>15643.000000</td>\n",
       "      <td>260.716667</td>\n",
       "      <td>10.000000</td>\n",
       "    </tr>\n",
       "  </tbody>\n",
       "</table>\n",
       "</div>"
      ],
      "text/plain": [
       "       Distancia      Segundos     Minutos  Min_Por_Km\n",
       "count  81.000000     81.000000   81.000000   81.000000\n",
       "mean    3.137531   1220.901235   20.348354    4.959450\n",
       "std     3.634519   2240.756985   37.345950    3.803856\n",
       "min     0.650000      0.000000    0.000000    0.000000\n",
       "25%     1.370000      0.000000    0.000000    0.000000\n",
       "50%     2.100000    573.000000    9.550000    6.962963\n",
       "75%     3.050000   1426.000000   23.766667    7.792350\n",
       "max    26.200000  15643.000000  260.716667   10.000000"
      ]
     },
     "execution_count": 26,
     "metadata": {},
     "output_type": "execute_result"
    }
   ],
   "source": [
    "df.fillna(0).describe()"
   ]
  },
  {
   "cell_type": "code",
   "execution_count": 27,
   "metadata": {},
   "outputs": [
    {
     "data": {
      "text/plain": [
       "array([[<matplotlib.axes._subplots.AxesSubplot object at 0x00000000142A5550>]],\n",
       "      dtype=object)"
      ]
     },
     "execution_count": 27,
     "metadata": {},
     "output_type": "execute_result"
    },
    {
     "data": {
      "image/png": "[encoded data removed]",
      "text/plain": [
       "<Figure size 432x288 with 1 Axes>"
      ]
     },
     "metadata": {
      "needs_background": "light"
     },
     "output_type": "display_data"
    }
   ],
   "source": [
    "df.hist('Min_Por_Km')"
   ]
  },
  {
   "cell_type": "code",
   "execution_count": 28,
   "metadata": {},
   "outputs": [
    {
     "data": {
      "text/plain": [
       "array([[<matplotlib.axes._subplots.AxesSubplot object at 0x0000000013BC0FD0>]],\n",
       "      dtype=object)"
      ]
     },
     "execution_count": 28,
     "metadata": {},
     "output_type": "execute_result"
    },
    {
     "data": {
      "image/png": "[encoded data removed]",
      "text/plain": [
       "<Figure size 432x288 with 1 Axes>"
      ]
     },
     "metadata": {
      "needs_background": "light"
     },
     "output_type": "display_data"
    }
   ],
   "source": [
    "df.hist('Min_Por_Km', bins = 20)"
   ]
  },
  {
   "cell_type": "code",
   "execution_count": 30,
   "metadata": {},
   "outputs": [
    {
     "data": {
      "image/png": "[encoded data removed]",
      "text/plain": [
       "<Figure size 720x576 with 1 Axes>"
      ]
     },
     "metadata": {
      "needs_background": "light"
     },
     "output_type": "display_data"
    }
   ],
   "source": [
    "df.hist('Min_Por_Km', bins = 20, figsize = (10, 8))\n",
    "plt.xlim((5, 11))\n",
    "plt.ylim((0, 12))\n",
    "plt.title(\"Histograma Minutos Por Km\")\n",
    "plt.grid(False)\n",
    "plt.savefig('imagens/hist_minutos_por_km.png')"
   ]
  },
  {
   "cell_type": "code",
   "execution_count": 31,
   "metadata": {},
   "outputs": [
    {
     "data": {
      "text/plain": [
       "<matplotlib.axes._subplots.AxesSubplot at 0x13d97978>"
      ]
     },
     "execution_count": 31,
     "metadata": {},
     "output_type": "execute_result"
    },
    {
     "data": {
      "image/png": "[encoded data removed]",
      "text/plain": [
       "<Figure size 432x288 with 1 Axes>"
      ]
     },
     "metadata": {
      "needs_background": "light"
     },
     "output_type": "display_data"
    }
   ],
   "source": [
    "df['Distancia'].plot()"
   ]
  },
  {
   "cell_type": "code",
   "execution_count": 32,
   "metadata": {},
   "outputs": [
    {
     "data": {
      "text/html": [
       "<div>\n",
       "<style scoped>\n",
       "    .dataframe tbody tr th:only-of-type {\n",
       "        vertical-align: middle;\n",
       "    }\n",
       "\n",
       "    .dataframe tbody tr th {\n",
       "        vertical-align: top;\n",
       "    }\n",
       "\n",
       "    .dataframe thead th {\n",
       "        text-align: right;\n",
       "    }\n",
       "</style>\n",
       "<table border=\"1\" class=\"dataframe\">\n",
       "  <thead>\n",
       "    <tr style=\"text-align: right;\">\n",
       "      <th></th>\n",
       "      <th>Distancia</th>\n",
       "      <th>Tempo</th>\n",
       "      <th>Segundos</th>\n",
       "      <th>Minutos</th>\n",
       "      <th>Min_Por_Km</th>\n",
       "    </tr>\n",
       "    <tr>\n",
       "      <th>Data</th>\n",
       "      <th></th>\n",
       "      <th></th>\n",
       "      <th></th>\n",
       "      <th></th>\n",
       "      <th></th>\n",
       "    </tr>\n",
       "  </thead>\n",
       "  <tbody>\n",
       "    <tr>\n",
       "      <th>2015-08-02</th>\n",
       "      <td>1.70</td>\n",
       "      <td>NaN</td>\n",
       "      <td>NaN</td>\n",
       "      <td>NaN</td>\n",
       "      <td>NaN</td>\n",
       "    </tr>\n",
       "    <tr>\n",
       "      <th>2015-08-03</th>\n",
       "      <td>1.40</td>\n",
       "      <td>NaN</td>\n",
       "      <td>NaN</td>\n",
       "      <td>NaN</td>\n",
       "      <td>NaN</td>\n",
       "    </tr>\n",
       "    <tr>\n",
       "      <th>2015-08-04</th>\n",
       "      <td>2.10</td>\n",
       "      <td>NaN</td>\n",
       "      <td>NaN</td>\n",
       "      <td>NaN</td>\n",
       "      <td>NaN</td>\n",
       "    </tr>\n",
       "    <tr>\n",
       "      <th>2015-08-06</th>\n",
       "      <td>2.38</td>\n",
       "      <td>NaN</td>\n",
       "      <td>NaN</td>\n",
       "      <td>NaN</td>\n",
       "      <td>NaN</td>\n",
       "    </tr>\n",
       "    <tr>\n",
       "      <th>2015-08-07</th>\n",
       "      <td>2.30</td>\n",
       "      <td>NaN</td>\n",
       "      <td>NaN</td>\n",
       "      <td>NaN</td>\n",
       "      <td>NaN</td>\n",
       "    </tr>\n",
       "    <tr>\n",
       "      <th>2015-08-08</th>\n",
       "      <td>3.40</td>\n",
       "      <td>NaN</td>\n",
       "      <td>NaN</td>\n",
       "      <td>NaN</td>\n",
       "      <td>NaN</td>\n",
       "    </tr>\n",
       "    <tr>\n",
       "      <th>2015-08-09</th>\n",
       "      <td>2.50</td>\n",
       "      <td>NaN</td>\n",
       "      <td>NaN</td>\n",
       "      <td>NaN</td>\n",
       "      <td>NaN</td>\n",
       "    </tr>\n",
       "    <tr>\n",
       "      <th>2015-08-10</th>\n",
       "      <td>3.36</td>\n",
       "      <td>0:28:37</td>\n",
       "      <td>1717.0</td>\n",
       "      <td>28.616667</td>\n",
       "      <td>8.516865</td>\n",
       "    </tr>\n",
       "    <tr>\n",
       "      <th>2015-08-11</th>\n",
       "      <td>1.67</td>\n",
       "      <td>0:13:07</td>\n",
       "      <td>787.0</td>\n",
       "      <td>13.116667</td>\n",
       "      <td>7.854291</td>\n",
       "    </tr>\n",
       "    <tr>\n",
       "      <th>2015-08-12</th>\n",
       "      <td>1.42</td>\n",
       "      <td>0:10:35</td>\n",
       "      <td>635.0</td>\n",
       "      <td>10.583333</td>\n",
       "      <td>7.453052</td>\n",
       "    </tr>\n",
       "    <tr>\n",
       "      <th>2015-08-13</th>\n",
       "      <td>2.35</td>\n",
       "      <td>0:17:25</td>\n",
       "      <td>1045.0</td>\n",
       "      <td>17.416667</td>\n",
       "      <td>7.411348</td>\n",
       "    </tr>\n",
       "    <tr>\n",
       "      <th>2015-08-14</th>\n",
       "      <td>0.90</td>\n",
       "      <td>0:06:16</td>\n",
       "      <td>376.0</td>\n",
       "      <td>6.266667</td>\n",
       "      <td>6.962963</td>\n",
       "    </tr>\n",
       "    <tr>\n",
       "      <th>2015-08-14</th>\n",
       "      <td>0.90</td>\n",
       "      <td>0:06:16</td>\n",
       "      <td>376.0</td>\n",
       "      <td>6.266667</td>\n",
       "      <td>6.962963</td>\n",
       "    </tr>\n",
       "    <tr>\n",
       "      <th>2015-08-15</th>\n",
       "      <td>1.78</td>\n",
       "      <td>NaN</td>\n",
       "      <td>NaN</td>\n",
       "      <td>NaN</td>\n",
       "      <td>NaN</td>\n",
       "    </tr>\n",
       "    <tr>\n",
       "      <th>2015-08-16</th>\n",
       "      <td>0.65</td>\n",
       "      <td>NaN</td>\n",
       "      <td>NaN</td>\n",
       "      <td>NaN</td>\n",
       "      <td>NaN</td>\n",
       "    </tr>\n",
       "  </tbody>\n",
       "</table>\n",
       "</div>"
      ],
      "text/plain": [
       "            Distancia    Tempo  Segundos    Minutos  Min_Por_Km\n",
       "Data                                                           \n",
       "2015-08-02       1.70      NaN       NaN        NaN         NaN\n",
       "2015-08-03       1.40      NaN       NaN        NaN         NaN\n",
       "2015-08-04       2.10      NaN       NaN        NaN         NaN\n",
       "2015-08-06       2.38      NaN       NaN        NaN         NaN\n",
       "2015-08-07       2.30      NaN       NaN        NaN         NaN\n",
       "2015-08-08       3.40      NaN       NaN        NaN         NaN\n",
       "2015-08-09       2.50      NaN       NaN        NaN         NaN\n",
       "2015-08-10       3.36  0:28:37    1717.0  28.616667    8.516865\n",
       "2015-08-11       1.67  0:13:07     787.0  13.116667    7.854291\n",
       "2015-08-12       1.42  0:10:35     635.0  10.583333    7.453052\n",
       "2015-08-13       2.35  0:17:25    1045.0  17.416667    7.411348\n",
       "2015-08-14       0.90  0:06:16     376.0   6.266667    6.962963\n",
       "2015-08-14       0.90  0:06:16     376.0   6.266667    6.962963\n",
       "2015-08-15       1.78      NaN       NaN        NaN         NaN\n",
       "2015-08-16       0.65      NaN       NaN        NaN         NaN"
      ]
     },
     "execution_count": 32,
     "metadata": {},
     "output_type": "execute_result"
    }
   ],
   "source": [
    "df.head(15)"
   ]
  },
  {
   "cell_type": "code",
   "execution_count": 33,
   "metadata": {},
   "outputs": [
    {
     "data": {
      "text/plain": [
       "<matplotlib.axes._subplots.AxesSubplot at 0x13e57a58>"
      ]
     },
     "execution_count": 33,
     "metadata": {},
     "output_type": "execute_result"
    },
    {
     "data": {
      "image/png": "[encoded data removed]",
      "text/plain": [
       "<Figure size 432x288 with 1 Axes>"
      ]
     },
     "metadata": {
      "needs_background": "light"
     },
     "output_type": "display_data"
    }
   ],
   "source": [
    "# Calculando a média de distância em uma janela (window) de 2 horas \n",
    "df['Distancia'].plot()\n",
    "pd.Series(df['Distancia']).rolling(window = 2).mean().plot()"
   ]
  },
  {
   "cell_type": "code",
   "execution_count": 34,
   "metadata": {},
   "outputs": [
    {
     "data": {
      "text/plain": [
       "<matplotlib.axes._subplots.AxesSubplot at 0x13ed9278>"
      ]
     },
     "execution_count": 34,
     "metadata": {},
     "output_type": "execute_result"
    },
    {
     "data": {
      "image/png": "[encoded data removed]",
      "text/plain": [
       "<Figure size 432x288 with 1 Axes>"
      ]
     },
     "metadata": {
      "needs_background": "light"
     },
     "output_type": "display_data"
    }
   ],
   "source": [
    "# Calculando a soma de distância em uma janela (window) de 2 horas \n",
    "df['Distancia'].plot()\n",
    "pd.Series(df['Distancia']).rolling(window = 2).sum().plot()"
   ]
  },
  {
   "cell_type": "code",
   "execution_count": 35,
   "metadata": {},
   "outputs": [
    {
     "data": {
      "text/plain": [
       "DatetimeIndex(['2015-08-02', '2015-08-03', '2015-08-04', '2015-08-06',\n",
       "               '2015-08-07', '2015-08-08', '2015-08-09', '2015-08-10',\n",
       "               '2015-08-11', '2015-08-12', '2015-08-13', '2015-08-14',\n",
       "               '2015-08-14', '2015-08-15', '2015-08-16', '2015-08-17',\n",
       "               '2015-08-18', '2015-08-19', '2015-08-19', '2015-08-20',\n",
       "               '2015-08-21', '2015-08-22', '2015-08-23', '2015-08-24',\n",
       "               '2015-08-25', '2015-08-25', '2015-08-26', '2015-08-27',\n",
       "               '2015-08-29', '2015-09-02', '2015-09-04', '2015-09-05',\n",
       "               '2015-09-08', '2015-09-10', '2015-09-12', '2015-09-16',\n",
       "               '2015-09-17', '2015-09-19', '2015-09-21', '2015-09-28',\n",
       "               '2015-09-28', '2015-09-29', '2015-10-04', '2015-10-04',\n",
       "               '2015-10-04', '2015-10-12', '2015-10-14', '2015-10-18',\n",
       "               '2015-10-18', '2015-10-18', '2015-10-20', '2015-10-25',\n",
       "               '2015-10-31', '2015-11-02', '2015-11-03', '2015-11-04',\n",
       "               '2015-11-07', '2015-11-07', '2015-11-07', '2015-11-09',\n",
       "               '2015-11-10', '2015-11-10', '2015-11-10', '2015-11-23',\n",
       "               '2015-11-27', '2015-11-28', '2015-12-09', '2015-12-12',\n",
       "               '2015-12-13', '2015-12-13', '2015-12-15', '2015-12-17',\n",
       "               '2015-12-19', '2015-12-20', '2015-12-22', '2015-12-23',\n",
       "               '2015-12-24', '2015-12-25', '2015-12-26', '2015-12-30',\n",
       "               '2016-01-01'],\n",
       "              dtype='datetime64[ns]', name='Data', freq=None)"
      ]
     },
     "execution_count": 35,
     "metadata": {},
     "output_type": "execute_result"
    }
   ],
   "source": [
    "df.index"
   ]
  },
  {
   "cell_type": "code",
   "execution_count": 36,
   "metadata": {},
   "outputs": [
    {
     "data": {
      "text/html": [
       "<div>\n",
       "<style scoped>\n",
       "    .dataframe tbody tr th:only-of-type {\n",
       "        vertical-align: middle;\n",
       "    }\n",
       "\n",
       "    .dataframe tbody tr th {\n",
       "        vertical-align: top;\n",
       "    }\n",
       "\n",
       "    .dataframe thead th {\n",
       "        text-align: right;\n",
       "    }\n",
       "</style>\n",
       "<table border=\"1\" class=\"dataframe\">\n",
       "  <thead>\n",
       "    <tr style=\"text-align: right;\">\n",
       "      <th></th>\n",
       "      <th>Distancia</th>\n",
       "      <th>Tempo</th>\n",
       "      <th>Segundos</th>\n",
       "      <th>Minutos</th>\n",
       "      <th>Min_Por_Km</th>\n",
       "    </tr>\n",
       "    <tr>\n",
       "      <th>Data</th>\n",
       "      <th></th>\n",
       "      <th></th>\n",
       "      <th></th>\n",
       "      <th></th>\n",
       "      <th></th>\n",
       "    </tr>\n",
       "  </thead>\n",
       "  <tbody>\n",
       "    <tr>\n",
       "      <th>2015-11-02</th>\n",
       "      <td>1.37</td>\n",
       "      <td>0:08:43</td>\n",
       "      <td>523.0</td>\n",
       "      <td>8.716667</td>\n",
       "      <td>6.362530</td>\n",
       "    </tr>\n",
       "    <tr>\n",
       "      <th>2015-11-03</th>\n",
       "      <td>5.30</td>\n",
       "      <td>0:39:26</td>\n",
       "      <td>2366.0</td>\n",
       "      <td>39.433333</td>\n",
       "      <td>7.440252</td>\n",
       "    </tr>\n",
       "    <tr>\n",
       "      <th>2015-11-04</th>\n",
       "      <td>3.05</td>\n",
       "      <td>0:22:12</td>\n",
       "      <td>1332.0</td>\n",
       "      <td>22.200000</td>\n",
       "      <td>7.278689</td>\n",
       "    </tr>\n",
       "    <tr>\n",
       "      <th>2015-11-07</th>\n",
       "      <td>5.63</td>\n",
       "      <td>0:49:05</td>\n",
       "      <td>2945.0</td>\n",
       "      <td>49.083333</td>\n",
       "      <td>8.718176</td>\n",
       "    </tr>\n",
       "    <tr>\n",
       "      <th>2015-11-07</th>\n",
       "      <td>1.26</td>\n",
       "      <td>NaN</td>\n",
       "      <td>NaN</td>\n",
       "      <td>NaN</td>\n",
       "      <td>NaN</td>\n",
       "    </tr>\n",
       "    <tr>\n",
       "      <th>2015-11-07</th>\n",
       "      <td>1.20</td>\n",
       "      <td>NaN</td>\n",
       "      <td>NaN</td>\n",
       "      <td>NaN</td>\n",
       "      <td>NaN</td>\n",
       "    </tr>\n",
       "    <tr>\n",
       "      <th>2015-11-09</th>\n",
       "      <td>3.05</td>\n",
       "      <td>0:22:36</td>\n",
       "      <td>1356.0</td>\n",
       "      <td>22.600000</td>\n",
       "      <td>7.409836</td>\n",
       "    </tr>\n",
       "    <tr>\n",
       "      <th>2015-11-10</th>\n",
       "      <td>1.50</td>\n",
       "      <td>0:09:00</td>\n",
       "      <td>540.0</td>\n",
       "      <td>9.000000</td>\n",
       "      <td>6.000000</td>\n",
       "    </tr>\n",
       "    <tr>\n",
       "      <th>2015-11-10</th>\n",
       "      <td>1.50</td>\n",
       "      <td>0:11:33</td>\n",
       "      <td>693.0</td>\n",
       "      <td>11.550000</td>\n",
       "      <td>7.700000</td>\n",
       "    </tr>\n",
       "    <tr>\n",
       "      <th>2015-11-10</th>\n",
       "      <td>4.00</td>\n",
       "      <td>NaN</td>\n",
       "      <td>NaN</td>\n",
       "      <td>NaN</td>\n",
       "      <td>NaN</td>\n",
       "    </tr>\n",
       "    <tr>\n",
       "      <th>2015-11-23</th>\n",
       "      <td>3.05</td>\n",
       "      <td>0:22:35</td>\n",
       "      <td>1355.0</td>\n",
       "      <td>22.583333</td>\n",
       "      <td>7.404372</td>\n",
       "    </tr>\n",
       "    <tr>\n",
       "      <th>2015-11-27</th>\n",
       "      <td>1.00</td>\n",
       "      <td>NaN</td>\n",
       "      <td>NaN</td>\n",
       "      <td>NaN</td>\n",
       "      <td>NaN</td>\n",
       "    </tr>\n",
       "    <tr>\n",
       "      <th>2015-11-28</th>\n",
       "      <td>3.00</td>\n",
       "      <td>NaN</td>\n",
       "      <td>NaN</td>\n",
       "      <td>NaN</td>\n",
       "      <td>NaN</td>\n",
       "    </tr>\n",
       "    <tr>\n",
       "      <th>2015-12-09</th>\n",
       "      <td>2.93</td>\n",
       "      <td>0:25:00</td>\n",
       "      <td>1500.0</td>\n",
       "      <td>25.000000</td>\n",
       "      <td>8.532423</td>\n",
       "    </tr>\n",
       "    <tr>\n",
       "      <th>2015-12-12</th>\n",
       "      <td>1.37</td>\n",
       "      <td>0:09:15</td>\n",
       "      <td>555.0</td>\n",
       "      <td>9.250000</td>\n",
       "      <td>6.751825</td>\n",
       "    </tr>\n",
       "    <tr>\n",
       "      <th>2015-12-13</th>\n",
       "      <td>5.30</td>\n",
       "      <td>0:43:36</td>\n",
       "      <td>2616.0</td>\n",
       "      <td>43.600000</td>\n",
       "      <td>8.226415</td>\n",
       "    </tr>\n",
       "    <tr>\n",
       "      <th>2015-12-13</th>\n",
       "      <td>2.21</td>\n",
       "      <td>0:18:59</td>\n",
       "      <td>1139.0</td>\n",
       "      <td>18.983333</td>\n",
       "      <td>8.589744</td>\n",
       "    </tr>\n",
       "    <tr>\n",
       "      <th>2015-12-15</th>\n",
       "      <td>6.50</td>\n",
       "      <td>0:58:43</td>\n",
       "      <td>3523.0</td>\n",
       "      <td>58.716667</td>\n",
       "      <td>9.033333</td>\n",
       "    </tr>\n",
       "    <tr>\n",
       "      <th>2015-12-17</th>\n",
       "      <td>12.00</td>\n",
       "      <td>1:39:00</td>\n",
       "      <td>5940.0</td>\n",
       "      <td>99.000000</td>\n",
       "      <td>8.250000</td>\n",
       "    </tr>\n",
       "    <tr>\n",
       "      <th>2015-12-19</th>\n",
       "      <td>3.10</td>\n",
       "      <td>0:26:15</td>\n",
       "      <td>1575.0</td>\n",
       "      <td>26.250000</td>\n",
       "      <td>8.467742</td>\n",
       "    </tr>\n",
       "    <tr>\n",
       "      <th>2015-12-20</th>\n",
       "      <td>14.80</td>\n",
       "      <td>2:15:00</td>\n",
       "      <td>8100.0</td>\n",
       "      <td>135.000000</td>\n",
       "      <td>9.121622</td>\n",
       "    </tr>\n",
       "    <tr>\n",
       "      <th>2015-12-22</th>\n",
       "      <td>3.10</td>\n",
       "      <td>0:28:00</td>\n",
       "      <td>1680.0</td>\n",
       "      <td>28.000000</td>\n",
       "      <td>9.032258</td>\n",
       "    </tr>\n",
       "    <tr>\n",
       "      <th>2015-12-23</th>\n",
       "      <td>5.63</td>\n",
       "      <td>0:51:50</td>\n",
       "      <td>3110.0</td>\n",
       "      <td>51.833333</td>\n",
       "      <td>9.206631</td>\n",
       "    </tr>\n",
       "    <tr>\n",
       "      <th>2015-12-24</th>\n",
       "      <td>3.05</td>\n",
       "      <td>0:25:08</td>\n",
       "      <td>1508.0</td>\n",
       "      <td>25.133333</td>\n",
       "      <td>8.240437</td>\n",
       "    </tr>\n",
       "    <tr>\n",
       "      <th>2015-12-25</th>\n",
       "      <td>14.80</td>\n",
       "      <td>2:20:00</td>\n",
       "      <td>8400.0</td>\n",
       "      <td>140.000000</td>\n",
       "      <td>9.459459</td>\n",
       "    </tr>\n",
       "    <tr>\n",
       "      <th>2015-12-26</th>\n",
       "      <td>5.20</td>\n",
       "      <td>NaN</td>\n",
       "      <td>NaN</td>\n",
       "      <td>NaN</td>\n",
       "      <td>NaN</td>\n",
       "    </tr>\n",
       "    <tr>\n",
       "      <th>2015-12-30</th>\n",
       "      <td>3.15</td>\n",
       "      <td>0:22:10</td>\n",
       "      <td>1330.0</td>\n",
       "      <td>22.166667</td>\n",
       "      <td>7.037037</td>\n",
       "    </tr>\n",
       "  </tbody>\n",
       "</table>\n",
       "</div>"
      ],
      "text/plain": [
       "            Distancia    Tempo  Segundos     Minutos  Min_Por_Km\n",
       "Data                                                            \n",
       "2015-11-02       1.37  0:08:43     523.0    8.716667    6.362530\n",
       "2015-11-03       5.30  0:39:26    2366.0   39.433333    7.440252\n",
       "2015-11-04       3.05  0:22:12    1332.0   22.200000    7.278689\n",
       "2015-11-07       5.63  0:49:05    2945.0   49.083333    8.718176\n",
       "2015-11-07       1.26      NaN       NaN         NaN         NaN\n",
       "2015-11-07       1.20      NaN       NaN         NaN         NaN\n",
       "2015-11-09       3.05  0:22:36    1356.0   22.600000    7.409836\n",
       "2015-11-10       1.50  0:09:00     540.0    9.000000    6.000000\n",
       "2015-11-10       1.50  0:11:33     693.0   11.550000    7.700000\n",
       "2015-11-10       4.00      NaN       NaN         NaN         NaN\n",
       "2015-11-23       3.05  0:22:35    1355.0   22.583333    7.404372\n",
       "2015-11-27       1.00      NaN       NaN         NaN         NaN\n",
       "2015-11-28       3.00      NaN       NaN         NaN         NaN\n",
       "2015-12-09       2.93  0:25:00    1500.0   25.000000    8.532423\n",
       "2015-12-12       1.37  0:09:15     555.0    9.250000    6.751825\n",
       "2015-12-13       5.30  0:43:36    2616.0   43.600000    8.226415\n",
       "2015-12-13       2.21  0:18:59    1139.0   18.983333    8.589744\n",
       "2015-12-15       6.50  0:58:43    3523.0   58.716667    9.033333\n",
       "2015-12-17      12.00  1:39:00    5940.0   99.000000    8.250000\n",
       "2015-12-19       3.10  0:26:15    1575.0   26.250000    8.467742\n",
       "2015-12-20      14.80  2:15:00    8100.0  135.000000    9.121622\n",
       "2015-12-22       3.10  0:28:00    1680.0   28.000000    9.032258\n",
       "2015-12-23       5.63  0:51:50    3110.0   51.833333    9.206631\n",
       "2015-12-24       3.05  0:25:08    1508.0   25.133333    8.240437\n",
       "2015-12-25      14.80  2:20:00    8400.0  140.000000    9.459459\n",
       "2015-12-26       5.20      NaN       NaN         NaN         NaN\n",
       "2015-12-30       3.15  0:22:10    1330.0   22.166667    7.037037"
      ]
     },
     "execution_count": 36,
     "metadata": {},
     "output_type": "execute_result"
    }
   ],
   "source": [
    "df['2015-11':'2015-12']"
   ]
  },
  {
   "cell_type": "code",
   "execution_count": 37,
   "metadata": {},
   "outputs": [
    {
     "data": {
      "text/plain": [
       "<matplotlib.axes._subplots.AxesSubplot at 0x1427e668>"
      ]
     },
     "execution_count": 37,
     "metadata": {},
     "output_type": "execute_result"
    },
    {
     "data": {
      "image/png": "[encoded data removed]",
      "text/plain": [
       "<Figure size 432x288 with 1 Axes>"
      ]
     },
     "metadata": {
      "needs_background": "light"
     },
     "output_type": "display_data"
    }
   ],
   "source": [
    "df['2015-11':'2016-1-1']['Distancia'].plot()"
   ]
  },
  {
   "cell_type": "code",
   "execution_count": 38,
   "metadata": {},
   "outputs": [
    {
     "data": {
      "text/plain": [
       "Distancia       1.420000\n",
       "Tempo            0:10:35\n",
       "Segundos      635.000000\n",
       "Minutos        10.583333\n",
       "Min_Por_Km      7.453052\n",
       "Name: 2015-08-12 00:00:00, dtype: object"
      ]
     },
     "execution_count": 38,
     "metadata": {},
     "output_type": "execute_result"
    }
   ],
   "source": [
    "df.loc['2015-8-12']"
   ]
  },
  {
   "cell_type": "code",
   "execution_count": 39,
   "metadata": {},
   "outputs": [],
   "source": [
    "df.to_csv('data/dataframe_saved_v2.csv')"
   ]
  },
  {
   "cell_type": "code",
   "execution_count": null,
   "metadata": {},
   "outputs": [],
   "source": [
    "df.reset_index()"
   ]
  },
  {
   "cell_type": "markdown",
   "metadata": {},
   "source": [
    "## FIM"
   ]
  },
  {
   "cell_type": "markdown",
   "metadata": {},
   "source": [
    "### Obrigado - Data Science Academy - <a href=\"http://facebook.com/dsacademybr\">facebook.com/dsacademybr</a>"
   ]
  }
 ],
 "metadata": {
  "anaconda-cloud": {},
  "kernelspec": {
   "display_name": "Python 3",
   "language": "python",
   "name": "python3"
  },
  "language_info": {
   "codemirror_mode": {
    "name": "ipython",
    "version": 3
   },
   "file_extension": ".py",
   "mimetype": "text/x-python",
   "name": "python",
   "nbconvert_exporter": "python",
   "pygments_lexer": "ipython3",
   "version": "3.7.3"
  }
 },
 "nbformat": 4,
 "nbformat_minor": 1
}
